{
 "cells": [
  {
   "cell_type": "markdown",
   "metadata": {},
   "source": [
    "In the cell below, create a Python function that wraps your previous solution for the Bag of Words lab.\n",
    "\n",
    "Requirements:\n",
    "\n",
    "1. Your function should accept the following parameters:\n",
    "    * `docs` [REQUIRED] - array of document paths.\n",
    "    * `stop_words` [OPTIONAL] - array of stop words. The default value is an empty array.\n",
    "\n",
    "1. Your function should return a Python object that contains the following:\n",
    "    * `bag_of_words` - array of strings of normalized unique words in the corpus.\n",
    "    * `term_freq` - array of the term-frequency vectors."
   ]
  },
  {
   "cell_type": "code",
   "execution_count": 10,
   "metadata": {},
   "outputs": [],
   "source": [
    "# Import required libraries\n",
    "\n",
    "# Define function\n",
    "def get_bow_from_docs(docs, stop_words=[]):\n",
    "    \n",
    "    \n",
    "    # In the function, first define the variables you will use such as `corpus`, `bag_of_words`, and `term_freq`.\n",
    "    corpus = []\n",
    "    for doc in docs:\n",
    "        corpus.append(open(doc, 'r').read())\n",
    "        corpus2 = []\n",
    "    \"\"\"\n",
    "    Loop `docs` and read the content of each doc into a string in `corpus`.\n",
    "    Remember to convert the doc content to lowercases and remove punctuation.\n",
    "    \"\"\"\n",
    "    \n",
    "\n",
    "    for i in corpus:\n",
    "        corpus2.append(i.lower().replace(\".\", \"\"))\n",
    "    bag_of_words = []\n",
    "\n",
    "    for i in corpus2:\n",
    "        words = i.split()\n",
    "        for w in words:\n",
    "            if w not in bag_of_words and w not in stop_words:\n",
    "                bag_of_words.append(w)\n",
    "            \n",
    "                \n",
    "    #notin_stopwords = [item for item in bag_of_words if item not in stop_words]\n",
    "    print(bag_of_words)\n",
    "    term_freq = []\n",
    "    items = []\n",
    "\n",
    "    for i in corpus2:\n",
    "        items.append(i.split())\n",
    "\n",
    "    for i in range(len(items)):\n",
    "        temp = []\n",
    "        for y in bag_of_words:\n",
    "            temp.append(items[i].count(y))\n",
    "        term_freq.append(temp)\n",
    "    \n",
    "    \"\"\"\n",
    "    Loop `corpus`. Append the terms in each doc into the `bag_of_words` array. The terms in `bag_of_words` \n",
    "    should be unique which means before adding each term you need to check if it's already added to the array.\n",
    "    In addition, check if each term is in the `stop_words` array. Only append the term to `bag_of_words`\n",
    "    if it is not a stop word.\n",
    "    \"\"\"\n",
    "\n",
    "    \n",
    "    \n",
    "    \n",
    "    \"\"\"\n",
    "    Loop `corpus` again. For each doc string, count the number of occurrences of each term in `bag_of_words`. \n",
    "    Create an array for each doc's term frequency and append it to `term_freq`.\n",
    "    \"\"\"\n",
    "\n",
    "    \n",
    "    \n",
    "    # Now return your output as an object\n",
    "    return {\n",
    "        \"bag_of_words\": bag_of_words,\n",
    "        \"term_freq\": term_freq\n",
    "    }\n",
    "    "
   ]
  },
  {
   "cell_type": "markdown",
   "metadata": {},
   "source": [
    "Test your function without stop words. You should see the output like below:\n",
    "\n",
    "```{'bag_of_words': ['ironhack', 'is', 'cool', 'i', 'love', 'am', 'a', 'student', 'at'], 'term_freq': [[1, 1, 1, 0, 0, 0, 0, 0, 0], [1, 0, 0, 1, 1, 0, 0, 0, 0], [1, 0, 0, 1, 0, 1, 1, 1, 1]]}```"
   ]
  },
  {
   "cell_type": "code",
   "execution_count": 11,
   "metadata": {},
   "outputs": [
    {
     "name": "stdout",
     "output_type": "stream",
     "text": [
      "['ironhack', 'is', 'cool', 'i', 'love', 'am', 'a', 'student', 'at']\n",
      "{'bag_of_words': ['ironhack', 'is', 'cool', 'i', 'love', 'am', 'a', 'student', 'at'], 'term_freq': [[1, 1, 1, 0, 0, 0, 0, 0, 0], [1, 0, 0, 1, 1, 0, 0, 0, 0], [1, 0, 0, 1, 0, 1, 1, 1, 1]]}\n"
     ]
    }
   ],
   "source": [
    "# Define doc paths array\n",
    "docs = ['doc1.txt', 'doc2.txt', 'doc3.txt']\n",
    "#docs = ['doc1.txt']\n",
    "# Obtain BoW from your function\n",
    "bow = get_bow_from_docs(docs)\n",
    "\n",
    "# Print BoW\n",
    "print(bow)"
   ]
  },
  {
   "cell_type": "markdown",
   "metadata": {},
   "source": [
    "If your attempt above is successful, nice work done!\n",
    "\n",
    "Now test your function again with the stop words. In the previous lab we defined the stop words in a large array. In this lab, we'll import the stop words from Scikit-Learn."
   ]
  },
  {
   "cell_type": "code",
   "execution_count": 8,
   "metadata": {},
   "outputs": [
    {
     "name": "stdout",
     "output_type": "stream",
     "text": [
      "frozenset({'inc', 'rather', 'whereupon', 'again', 'except', 'much', 'now', 'many', 'hereby', 'latterly', 'due', 'nobody', 'those', 'system', 'can', 'elsewhere', 'other', 'throughout', 'put', 'them', 'hers', 'moreover', 'towards', 'onto', 'whereas', 'whither', 'would', 'cry', 'perhaps', 'seeming', 'couldnt', 'as', 'few', 'per', 'him', 'whence', 'although', 'sixty', 'and', 'because', 'whether', 'across', 'it', 'four', 'no', 'everywhere', 'for', 'toward', 'very', 'yet', 'done', 'with', 'against', 'here', 'whole', 'this', 'had', 'their', 'any', 'detail', 'they', 'third', 'themselves', 'then', 'am', 'become', 'becoming', 'interest', 'you', 'anywhere', 'anything', 'ourselves', 'whatever', 'so', 'co', 'one', 'or', 'has', 'a', 'each', 'nowhere', 'someone', 'ie', 'down', 'by', 'what', 'whose', 'first', 'was', 'thereby', 'might', 'part', 'un', 'sincere', 'bill', 'still', 'must', 'once', 'but', 'either', 'name', 'never', 'its', 'such', 'among', 'how', 'most', 'were', 'latter', 'without', 'own', 'some', 'under', 'cannot', 'anyhow', 'fill', 'is', 'less', 'nothing', 'six', 'thus', 'sometime', 'if', 'whenever', 'yours', 'do', 'already', 'meanwhile', 'fifteen', 'always', 'these', 'to', 'around', 'neither', 'afterwards', 'last', 'that', 'thereupon', 'somehow', 'well', 'every', 'de', 'from', 'thru', 'move', 'fire', 'itself', 'empty', 'hasnt', 'himself', 'amoungst', 'been', 'give', 'both', 'amongst', 'why', 'mostly', 'even', 'over', 'thin', 'con', 'there', 'eg', 'through', 'he', 'eight', 'hence', 'though', 'front', 'thence', 'besides', 'find', 'herself', 'not', 'same', 'twelve', 'the', 'others', 'his', 'anyone', 'beside', 'before', 'describe', 'her', 'please', 'serious', 'take', 'whom', 'us', 'beyond', 'only', 'whereby', 'hereafter', 'could', 'often', 'an', 'none', 'upon', 'get', 'into', 'least', 'another', 'where', 'which', 'all', 'hundred', 'otherwise', 'five', 'namely', 'at', 'our', 'show', 'however', 'cant', 'top', 'found', 'twenty', 'your', 'she', 'when', 'made', 'whoever', 'have', 'since', 'together', 'below', 'seem', 'wherever', 'we', 'seemed', 'than', 'myself', 'sometimes', 'being', 'along', 'between', 'something', 'yourself', 'on', 'seems', 'wherein', 'go', 'ten', 'thick', 'ever', 'nevertheless', 'of', 'side', 'three', 'everything', 'eleven', 'etc', 'anyway', 'up', 'more', 'call', 'amount', 'forty', 'nine', 'alone', 'everyone', 'keep', 'bottom', 'hereupon', 'during', 'full', 'else', 'mill', 'mine', 'off', 'in', 'about', 'fifty', 'also', 'see', 'noone', 'beforehand', 'yourselves', 'back', 'therein', 'thereafter', 'while', 'may', 'next', 're', 'indeed', 'should', 'further', 'nor', 'somewhere', 'i', 'until', 'within', 'via', 'who', 'out', 'whereafter', 'formerly', 'ltd', 'herein', 'are', 'becomes', 'behind', 'almost', 'former', 'will', 'my', 'enough', 'too', 'became', 'two', 'above', 'several', 'be', 'therefore', 'ours', 'me', 'after'})\n"
     ]
    }
   ],
   "source": [
    "from sklearn.feature_extraction import stop_words\n",
    "print(stop_words.ENGLISH_STOP_WORDS)"
   ]
  },
  {
   "cell_type": "markdown",
   "metadata": {},
   "source": [
    "You should have seen a large list of words that looks like:\n",
    "\n",
    "```frozenset({'across', 'mine', 'cannot', ...})```\n",
    "\n",
    "`frozenset` is a type of Python object that is immutable. In this lab you can use it just like an array without conversion."
   ]
  },
  {
   "cell_type": "markdown",
   "metadata": {},
   "source": [
    "Next, test your function with supplying `stop_words.ENGLISH_STOP_WORDS` as the second parameter."
   ]
  },
  {
   "cell_type": "code",
   "execution_count": 12,
   "metadata": {},
   "outputs": [
    {
     "name": "stdout",
     "output_type": "stream",
     "text": [
      "['ironhack', 'cool', 'love', 'student']\n",
      "{'bag_of_words': ['ironhack', 'cool', 'love', 'student'], 'term_freq': [[1, 1, 0, 0], [1, 0, 1, 0], [1, 0, 0, 1]]}\n"
     ]
    }
   ],
   "source": [
    "bow = get_bow_from_docs(docs, stop_words.ENGLISH_STOP_WORDS)\n",
    "\n",
    "print(bow)"
   ]
  },
  {
   "cell_type": "markdown",
   "metadata": {},
   "source": [
    "You should have seen:\n",
    "\n",
    "```{'bag_of_words': ['ironhack', 'cool', 'love', 'student'], 'term_freq': [[1, 1, 0, 0], [1, 0, 1, 0], [1, 0, 0, 1]]}```"
   ]
  },
  {
   "cell_type": "code",
   "execution_count": null,
   "metadata": {},
   "outputs": [],
   "source": []
  }
 ],
 "metadata": {
  "kernelspec": {
   "display_name": "Python 3",
   "language": "python",
   "name": "python3"
  },
  "language_info": {
   "codemirror_mode": {
    "name": "ipython",
    "version": 3
   },
   "file_extension": ".py",
   "mimetype": "text/x-python",
   "name": "python",
   "nbconvert_exporter": "python",
   "pygments_lexer": "ipython3",
   "version": "3.6.9"
  }
 },
 "nbformat": 4,
 "nbformat_minor": 2
}
